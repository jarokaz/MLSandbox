{
 "cells": [
  {
   "cell_type": "markdown",
   "metadata": {},
   "source": [
    "# Training on a single node\n",
    "\n",
    "## Prepare a training script"
   ]
  },
  {
   "cell_type": "code",
   "execution_count": 11,
   "metadata": {},
   "outputs": [],
   "source": [
    "import time"
   ]
  },
  {
   "cell_type": "code",
   "execution_count": 3,
   "metadata": {},
   "outputs": [],
   "source": [
    "SCRIPT_FOLDER = './train'"
   ]
  },
  {
   "cell_type": "code",
   "execution_count": 56,
   "metadata": {},
   "outputs": [],
   "source": [
    "!mkdir $SCRIPT_FOLDER"
   ]
  },
  {
   "cell_type": "code",
   "execution_count": 57,
   "metadata": {},
   "outputs": [],
   "source": [
    "!touch $SCRIPT_FOLDER/__init__.py"
   ]
  },
  {
   "cell_type": "code",
   "execution_count": 18,
   "metadata": {},
   "outputs": [
    {
     "name": "stdout",
     "output_type": "stream",
     "text": [
      "Overwriting ./train/train.py\n"
     ]
    }
   ],
   "source": [
    "%%writefile $SCRIPT_FOLDER/train.py\n",
    "\n",
    "from absl import flags\n",
    "from absl import app\n",
    "\n",
    "import os\n",
    "import tensorflow as tf\n",
    "import numpy as np\n",
    "\n",
    "from tensorflow.keras import Input, Model\n",
    "from tensorflow.keras.layers import Conv2D, MaxPooling2D, GlobalAveragePooling2D, Dropout, Dense, add\n",
    "\n",
    "#tf.enable_eager_execution()\n",
    "\n",
    "\n",
    "IMAGE_SHAPE = (32, 32, 3)\n",
    "NUM_CLASSES = 10\n",
    "\n",
    "def toy_resnet_model():\n",
    "    inputs = Input(shape=IMAGE_SHAPE, name='image')\n",
    "    x = Conv2D(32, 3, activation='relu')(inputs)\n",
    "    x = Conv2D(64, 3, activation='relu')(x)\n",
    "    block_1_output = MaxPooling2D(3)(x)\n",
    "    \n",
    "    x = Conv2D(64, 3, activation='relu', padding='same')(block_1_output)\n",
    "    x = Conv2D(64, 3, activation='relu', padding='same')(x)\n",
    "    block_2_output = add([x, block_1_output])\n",
    "    \n",
    "    x = Conv2D(64, 3, activation='relu', padding='same')(x)\n",
    "    x = Conv2D(64, 3, activation='relu', padding='same')(x)\n",
    "    block_3_output = add([x, block_2_output])\n",
    "    \n",
    "    x = Conv2D(64, 3, activation='relu')(block_3_output)\n",
    "    x = GlobalAveragePooling2D()(x)\n",
    "    x = Dense(256, activation='relu')(x)\n",
    "    x = Dropout(0.5)(x)\n",
    "    outputs = Dense(10, activation='softmax')(x)\n",
    "    \n",
    "    model = Model(inputs, outputs, name='toy_resnet')\n",
    "    \n",
    "    return model\n",
    "\n",
    "\n",
    "def prepare_datasets():\n",
    "    def _parse_record(example_proto):\n",
    "        features = {\n",
    "            'image': tf.FixedLenFeature([], tf.string),\n",
    "            'label': tf.FixedLenFeature([], tf.int64, default_value=0)\n",
    "        }\n",
    "        \n",
    "        parsed_features = tf.parse_single_example(example_proto, features)\n",
    "        image = parsed_features['image']\n",
    "        label = parsed_features['label']\n",
    "        \n",
    "        image = tf.image.decode_png(image, channels=3)\n",
    "        image = tf.cast(image, tf.float32)\n",
    "        image = image / 255\n",
    "        \n",
    "        label = tf.one_hot(label, NUM_CLASSES)\n",
    "        \n",
    "        return image, label\n",
    "\n",
    "    \n",
    "    train_dataset = tf.data.TFRecordDataset(FLAGS.train_files)\n",
    "    eval_dataset = tf.data.TFRecordDataset(FLAGS.eval_files)\n",
    "    \n",
    "    train_dataset = train_dataset.map(_parse_record)\n",
    "    eval_dataset = eval_dataset.map(_parse_record)\n",
    "    \n",
    "    train_dataset = train_dataset.shuffle(4096).batch(FLAGS.batch_size).repeat()\n",
    "    eval_dataset = eval_dataset.batch(FLAGS.batch_size).repeat()\n",
    "    \n",
    "    return train_dataset, eval_dataset\n",
    "\n",
    "\n",
    "def train_evaluate():\n",
    "    \n",
    "    train_dataset, eval_dataset = prepare_datasets()\n",
    "    \n",
    "    model = toy_resnet_model()\n",
    "    \n",
    "    model.compile(optimizer=tf.keras.optimizers.RMSprop(1e-3),\n",
    "             loss=\"categorical_crossentropy\",\n",
    "             metrics=[\"accuracy\"]\n",
    "             )\n",
    "\n",
    "    callbacks = [\n",
    "        tf.keras.callbacks.TensorBoard(log_dir=FLAGS['job-dir'].value, update_freq='epoch')\n",
    "    ]\n",
    "    \n",
    "    model.fit(train_dataset,\n",
    "         epochs=FLAGS.epochs,\n",
    "         steps_per_epoch=1000,\n",
    "         callbacks=callbacks,\n",
    "         validation_data=eval_dataset,\n",
    "         validation_steps=200)\n",
    "    \n",
    "    \n",
    "\n",
    "FLAGS = flags.FLAGS\n",
    "flags.DEFINE_list(\"train_files\", None, \"Training TFRecord files\")\n",
    "flags.DEFINE_list(\"eval_files\", None, \"Evaluation TFRecord files\")\n",
    "\n",
    "flags.DEFINE_integer(\"epochs\", 5, \"Number of epochs to train\")\n",
    "flags.DEFINE_integer(\"batch_size\", 32, \"Batch size\")\n",
    "flags.DEFINE_integer(\"steps_per_epoch\", 1000, \"Steps per epoch\")\n",
    "flags.DEFINE_integer(\"validation_steps\", 20, \"Batch size\")\n",
    "\n",
    "flags.DEFINE_string(\"job-dir\", None, \"Job dir\")\n",
    "\n",
    "# Required flags\n",
    "flags.mark_flag_as_required(\"train_files\")\n",
    "flags.mark_flag_as_required(\"eval_files\")\n",
    "\n",
    "\n",
    "def main(argv):\n",
    "    del argv #Unused\n",
    "    \n",
    "    train_evaluate()\n",
    "     \n",
    "\n",
    "if __name__ == '__main__':\n",
    "    \n",
    "    app.run(main)\n"
   ]
  },
  {
   "cell_type": "markdown",
   "metadata": {},
   "source": [
    "## Run the training script locally"
   ]
  },
  {
   "cell_type": "code",
   "execution_count": 12,
   "metadata": {},
   "outputs": [],
   "source": [
    "TRAIN_DATA = 'gs://jkdatasets/cifar10/cifar10-train.tfrecord-00000-of-00010,gs://jkdatasets/cifar10/cifar10-train.tfrecord-00001-of-00010'\n",
    "EVAL_DATA = 'gs://jkdatasets/cifar10/cifar10-test.tfrecord-00000-of-00001'\n",
    "BUCKET_NAME = 'gs://jkcmle/'"
   ]
  },
  {
   "cell_type": "code",
   "execution_count": 14,
   "metadata": {},
   "outputs": [],
   "source": [
    "# Define a timestamped job name\n",
    "JOB_NAME = \"toyresnet_{}\".format(int(time.time()))\n",
    "JOB_DIR = BUCKET_NAME + JOB_NAME"
   ]
  },
  {
   "cell_type": "code",
   "execution_count": 19,
   "metadata": {},
   "outputs": [
    {
     "name": "stdout",
     "output_type": "stream",
     "text": [
      "2019-03-31 14:14:17.734622: I tensorflow/core/platform/cpu_feature_guard.cc:142] Your CPU supports instructions that this TensorFlow binary was not compiled to use: AVX2 FMA\n",
      "2019-03-31 14:14:18.010794: I tensorflow/stream_executor/platform/default/dso_loader.cc:42] Successfully opened dynamic library libcuda.so.1\n",
      "2019-03-31 14:14:21.809219: I tensorflow/stream_executor/cuda/cuda_gpu_executor.cc:1009] successful NUMA node read from SysFS had negative value (-1), but there must be at least one NUMA node, so returning NUMA node zero\n",
      "2019-03-31 14:14:21.811323: I tensorflow/stream_executor/cuda/cuda_gpu_executor.cc:1009] successful NUMA node read from SysFS had negative value (-1), but there must be at least one NUMA node, so returning NUMA node zero\n",
      "2019-03-31 14:14:21.845507: I tensorflow/compiler/xla/service/service.cc:162] XLA service 0x5608f15c0800 executing computations on platform CUDA. Devices:\n",
      "2019-03-31 14:14:21.845580: I tensorflow/compiler/xla/service/service.cc:169]   StreamExecutor device (0): Tesla K80, Compute Capability 3.7\n",
      "2019-03-31 14:14:21.845599: I tensorflow/compiler/xla/service/service.cc:169]   StreamExecutor device (1): Tesla K80, Compute Capability 3.7\n",
      "2019-03-31 14:14:22.259111: I tensorflow/core/platform/profile_utils/cpu_utils.cc:94] CPU Frequency: 2199995000 Hz\n",
      "2019-03-31 14:14:22.259332: I tensorflow/compiler/xla/service/service.cc:162] XLA service 0x5608f1637240 executing computations on platform Host. Devices:\n",
      "2019-03-31 14:14:22.259361: I tensorflow/compiler/xla/service/service.cc:169]   StreamExecutor device (0): <undefined>, <undefined>\n",
      "2019-03-31 14:14:22.259742: I tensorflow/core/common_runtime/gpu/gpu_device.cc:1467] Found device 0 with properties: \n",
      "name: Tesla K80 major: 3 minor: 7 memoryClockRate(GHz): 0.8235\n",
      "pciBusID: 0000:00:04.0\n",
      "totalMemory: 11.17GiB freeMemory: 11.10GiB\n",
      "2019-03-31 14:14:22.259950: I tensorflow/core/common_runtime/gpu/gpu_device.cc:1467] Found device 1 with properties: \n",
      "name: Tesla K80 major: 3 minor: 7 memoryClockRate(GHz): 0.8235\n",
      "pciBusID: 0000:00:05.0\n",
      "totalMemory: 11.17GiB freeMemory: 11.10GiB\n",
      "2019-03-31 14:14:22.260424: I tensorflow/core/common_runtime/gpu/gpu_device.cc:1546] Adding visible gpu devices: 0, 1\n",
      "2019-03-31 14:14:22.294389: I tensorflow/stream_executor/platform/default/dso_loader.cc:42] Successfully opened dynamic library libcudart.so.10.0\n",
      "2019-03-31 14:14:22.306201: I tensorflow/core/common_runtime/gpu/gpu_device.cc:1015] Device interconnect StreamExecutor with strength 1 edge matrix:\n",
      "2019-03-31 14:14:22.306230: I tensorflow/core/common_runtime/gpu/gpu_device.cc:1021]      0 1 \n",
      "2019-03-31 14:14:22.306245: I tensorflow/core/common_runtime/gpu/gpu_device.cc:1034] 0:   N Y \n",
      "2019-03-31 14:14:22.306260: I tensorflow/core/common_runtime/gpu/gpu_device.cc:1034] 1:   Y N \n",
      "2019-03-31 14:14:22.307738: I tensorflow/core/common_runtime/gpu/gpu_device.cc:1149] Created TensorFlow device (/job:localhost/replica:0/task:0/device:GPU:0 with 10801 MB memory) -> physical GPU (device: 0, name: Tesla K80, pci bus id: 0000:00:04.0, compute capability: 3.7)\n",
      "2019-03-31 14:14:22.308172: I tensorflow/core/common_runtime/gpu/gpu_device.cc:1149] Created TensorFlow device (/job:localhost/replica:0/task:0/device:GPU:1 with 10801 MB memory) -> physical GPU (device: 1, name: Tesla K80, pci bus id: 0000:00:05.0, compute capability: 3.7)\n",
      "Traceback (most recent call last):\n",
      "  File \"/opt/anaconda3/lib/python3.6/runpy.py\", line 193, in _run_module_as_main\n",
      "    \"__main__\", mod_spec)\n",
      "  File \"/opt/anaconda3/lib/python3.6/runpy.py\", line 85, in _run_code\n",
      "    exec(code, run_globals)\n",
      "  File \"/home/jupyter/repos/MLSandbox/training-singlenode/train/train.py\", line 123, in <module>\n",
      "    app.run(main)\n",
      "  File \"/opt/anaconda3/lib/python3.6/site-packages/absl/app.py\", line 300, in run\n",
      "    _run_main(main, args)\n",
      "  File \"/opt/anaconda3/lib/python3.6/site-packages/absl/app.py\", line 251, in _run_main\n",
      "    sys.exit(main(argv))\n",
      "  File \"/home/jupyter/repos/MLSandbox/training-singlenode/train/train.py\", line 118, in main\n",
      "    train_evaluate()\n",
      "  File \"/home/jupyter/repos/MLSandbox/training-singlenode/train/train.py\", line 77, in train_evaluate\n",
      "    train_dataset, eval_dataset = prepare_datasets()\n",
      "  File \"/home/jupyter/repos/MLSandbox/training-singlenode/train/train.py\", line 66, in prepare_datasets\n",
      "    train_dataset = train_dataset.map(_parse_record)\n",
      "  File \"/opt/anaconda3/lib/python3.6/site-packages/tensorflow/python/data/ops/dataset_ops.py\", line 1012, in map\n",
      "    return MapDataset(self, map_func, preserve_cardinality=True)\n",
      "  File \"/opt/anaconda3/lib/python3.6/site-packages/tensorflow/python/data/ops/dataset_ops.py\", line 2986, in __init__\n",
      "    use_legacy_function=use_legacy_function)\n",
      "  File \"/opt/anaconda3/lib/python3.6/site-packages/tensorflow/python/data/ops/dataset_ops.py\", line 2388, in __init__\n",
      "    self._function = wrapper_fn._get_concrete_function_internal()\n",
      "  File \"/opt/anaconda3/lib/python3.6/site-packages/tensorflow/python/eager/function.py\", line 1319, in _get_concrete_function_internal\n",
      "    *args, **kwargs)\n",
      "  File \"/opt/anaconda3/lib/python3.6/site-packages/tensorflow/python/eager/function.py\", line 1313, in _get_concrete_function_internal_garbage_collected\n",
      "    graph_function, _, _ = self._maybe_define_function(args, kwargs)\n",
      "  File \"/opt/anaconda3/lib/python3.6/site-packages/tensorflow/python/eager/function.py\", line 1580, in _maybe_define_function\n",
      "    graph_function = self._create_graph_function(args, kwargs)\n",
      "  File \"/opt/anaconda3/lib/python3.6/site-packages/tensorflow/python/eager/function.py\", line 1512, in _create_graph_function\n",
      "    capture_by_value=self._capture_by_value),\n",
      "  File \"/opt/anaconda3/lib/python3.6/site-packages/tensorflow/python/framework/func_graph.py\", line 694, in func_graph_from_py_func\n",
      "    func_outputs = python_func(*func_args, **func_kwargs)\n",
      "  File \"/opt/anaconda3/lib/python3.6/site-packages/tensorflow/python/data/ops/dataset_ops.py\", line 2381, in wrapper_fn\n",
      "    ret = _wrapper_helper(*args)\n",
      "  File \"/opt/anaconda3/lib/python3.6/site-packages/tensorflow/python/data/ops/dataset_ops.py\", line 2326, in _wrapper_helper\n",
      "    ret = func(*nested_args)\n",
      "  File \"/home/jupyter/repos/MLSandbox/training-singlenode/train/train.py\", line 46, in _parse_record\n",
      "    'image': tf.FixedLenFeature([], tf.string),\n",
      "AttributeError: module 'tensorflow' has no attribute 'FixedLenFeature'\n"
     ]
    }
   ],
   "source": [
    "!gcloud ml-engine local train \\\n",
    "--module-name train.train \\\n",
    "--package-path train \\\n",
    "--job-dir $JOB_DIR \\\n",
    "-- \\\n",
    "--train_files $TRAIN_DATA \\\n",
    "--eval_files $EVAL_DATA \\\n",
    "--epochs 2"
   ]
  },
  {
   "cell_type": "code",
   "execution_count": 21,
   "metadata": {},
   "outputs": [
    {
     "data": {
      "text/plain": [
       "'2.0.0-alpha0'"
      ]
     },
     "execution_count": 21,
     "metadata": {},
     "output_type": "execute_result"
    }
   ],
   "source": [
    "import tensorflow as tf\n",
    "tf.__version__"
   ]
  },
  {
   "cell_type": "code",
   "execution_count": null,
   "metadata": {},
   "outputs": [],
   "source": []
  }
 ],
 "metadata": {
  "kernelspec": {
   "display_name": "Python 3",
   "language": "python",
   "name": "python3"
  },
  "language_info": {
   "codemirror_mode": {
    "name": "ipython",
    "version": 3
   },
   "file_extension": ".py",
   "mimetype": "text/x-python",
   "name": "python",
   "nbconvert_exporter": "python",
   "pygments_lexer": "ipython3",
   "version": "3.6.8"
  }
 },
 "nbformat": 4,
 "nbformat_minor": 2
}
