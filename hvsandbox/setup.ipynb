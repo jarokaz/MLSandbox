{
 "cells": [
  {
   "cell_type": "markdown",
   "metadata": {},
   "source": [
    "# Training on a single node\n",
    "\n",
    "## Prepare a training script"
   ]
  },
  {
   "cell_type": "markdown",
   "metadata": {},
   "source": [
    "## Set up training "
   ]
  },
  {
   "cell_type": "markdown",
   "metadata": {},
   "source": [
    "### Build the container"
   ]
  },
  {
   "cell_type": "code",
   "execution_count": 23,
   "metadata": {},
   "outputs": [
    {
     "name": "stdout",
     "output_type": "stream",
     "text": [
      "Sending build context to Docker daemon  27.65kB\n",
      "Step 1/4 : FROM horovod/horovod:0.16.1-tf1.12.0-torch1.0.0-mxnet1.4.0-py3.5\n",
      " ---> 811b592026ce\n",
      "Step 2/4 : RUN apt-get update && apt-get install -y --allow-downgrades --allow-change-held-packages --no-install-recommends         curl         wget         jq\n",
      " ---> Using cache\n",
      " ---> e017b258efcf\n",
      "Step 3/4 : COPY ./docker-entrypoint.sh /\n",
      " ---> 4b05288af5f7\n",
      "Step 4/4 : ENTRYPOINT [\"/docker-entrypoint.sh\"]\n",
      " ---> Running in 38ebe90be6e6\n",
      "Removing intermediate container 38ebe90be6e6\n",
      " ---> 05f2dd513dd0\n",
      "Successfully built 05f2dd513dd0\n",
      "Successfully tagged gcr.io/sandbox-235500/hvtest:gpu\n",
      "The push refers to repository [gcr.io/sandbox-235500/hvtest]\n",
      "\n",
      "\u001b[1B\n",
      "\u001b[1B\n",
      "\u001b[1B\n",
      "\u001b[1B\n",
      "\u001b[1B\n",
      "\u001b[1B\n",
      "\u001b[1B\n",
      "\u001b[1B\n",
      "\u001b[2B\n",
      "\u001b[1B\n",
      "\u001b[1B\n",
      "\u001b[1B\n",
      "\u001b[5B\n",
      "\u001b[1B\n",
      "\u001b[5B\n",
      "\u001b[1B\n",
      "\u001b[6B\n",
      "\u001b[6B\n",
      "\u001b[6B\n",
      "\u001b[20Bgpu: digest: sha256:0109ac87355e636121b40807964d7f0e46454519d0408c48151a2f3a657a3778 size: 4521\n"
     ]
    }
   ],
   "source": [
    "PROJECT_ID='sandbox-235500'\n",
    "IMAGE_REPO_NAME='hvtest'\n",
    "IMAGE_TAG='gpu'\n",
    "IMAGE_URI='gcr.io/' + PROJECT_ID + '/' + IMAGE_REPO_NAME + ':' + IMAGE_TAG\n",
    "\n",
    "!docker build -f Dockerfile -t $IMAGE_URI ./\n",
    "!docker push $IMAGE_URI"
   ]
  },
  {
   "cell_type": "markdown",
   "metadata": {},
   "source": [
    "## Run the job on CMLE"
   ]
  },
  {
   "cell_type": "code",
   "execution_count": 25,
   "metadata": {},
   "outputs": [
    {
     "name": "stdout",
     "output_type": "stream",
     "text": [
      "Job [horovod_20195102_215131] submitted successfully.\n",
      "Your job is still active. You may view the status of your job with the command\n",
      "\n",
      "  $ gcloud ml-engine jobs describe horovod_20195102_215131\n",
      "\n",
      "or continue streaming the logs with the command\n",
      "\n",
      "  $ gcloud ml-engine jobs stream-logs horovod_20195102_215131\n",
      "jobId: horovod_20195102_215131\n",
      "state: QUEUED\n"
     ]
    }
   ],
   "source": [
    "REGION='us-west1'\n",
    "BUCKET_NAME='gs://jkcmle'\n",
    "JOB_NAME = 'horovod_' + datetime.datetime.today().strftime('%Y%M%d_%H%M%S')\n",
    "JOB_DIR=BUCKET_NAME + '/jobs/' + JOB_NAME\n",
    "\n",
    "!gcloud beta ml-engine jobs submit training $JOB_NAME \\\n",
    "--region $REGION \\\n",
    "--scale-tier custom \\\n",
    "--master-image-uri $IMAGE_URI \\\n",
    "--master-machine-type standard_gpu \\\n",
    "--worker-image-uri $IMAGE_URI \\\n",
    "--worker-machine-type standard_gpu \\\n",
    "--worker-server-count 2"
   ]
  },
  {
   "cell_type": "code",
   "execution_count": null,
   "metadata": {},
   "outputs": [],
   "source": []
  }
 ],
 "metadata": {
  "kernelspec": {
   "display_name": "Python 3",
   "language": "python",
   "name": "python3"
  },
  "language_info": {
   "codemirror_mode": {
    "name": "ipython",
    "version": 3
   },
   "file_extension": ".py",
   "mimetype": "text/x-python",
   "name": "python",
   "nbconvert_exporter": "python",
   "pygments_lexer": "ipython3",
   "version": "3.5.3"
  }
 },
 "nbformat": 4,
 "nbformat_minor": 2
}
