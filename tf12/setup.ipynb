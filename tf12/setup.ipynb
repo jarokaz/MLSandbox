{
 "cells": [
  {
   "cell_type": "markdown",
   "metadata": {},
   "source": [
    "```\n",
    "export TRAIN_DATA=gs://jkdatasets/cifar10/cifar10-train.tfrecord-00000-of-00010,gs://jkdatasets/cifar10/cifar10-train.tfrecord-00001-of-00010\n",
    "export EVAL_DATA=gs://jkdatasets/cifar10/cifar10-test.tfrecord-00000-of-00001\n",
    "export BUCKET_NAME=gs://jkcmle/\n",
    "\n",
    "export REGION=us-west1\n",
    "export BUCKET_NAME=gs://jkcmle\n",
    "export PROJECT_ID=$(gcloud config list project --format \"value(core.project)\")\n",
    "export IMAGE_REPO_NAME=toyresnet\n",
    "export IMAGE_TAG=gpu\n",
    "export IMAGE_URI=gcr.io/$PROJECT_ID/$IMAGE_REPO_NAME:$IMAGE_TAG\n",
    "export TRAIN_DATA=gs://jkdatasets/cifar10/cifar10-train.tfrecord-00000-of-00010,gs://jkdatasets/cifar10/cifar10-train.tfrecord-00001-of-00010\n",
    "export EVAL_DATA=gs://jkdatasets/cifar10/cifar10-test.tfrecord-00000-of-00001\n",
    "export JOB_NAME=J$(date +'%Y%M%d_%H%M%S')\n",
    "export JOB_DIR=$BUCKET_NAME/jobs/$JOB_NAME\n",
    "```"
   ]
  },
  {
   "cell_type": "markdown",
   "metadata": {},
   "source": [
    "```\n",
    "gcloud beta ml-engine jobs submit training $JOB_NAME \\\n",
    "--region $REGION \\\n",
    "--master-image-uri $IMAGE_URI \\\n",
    "--scale-tier BASIC_GPU \\\n",
    "-- \\\n",
    "--train_files $TRAIN_DATA \\\n",
    "--eval_files $EVAL_DATA \\\n",
    "--epochs 2\n",
    "```"
   ]
  },
  {
   "cell_type": "markdown",
   "metadata": {},
   "source": [
    "```\n",
    "docker build -f Dockerfile -t $IMAGE_URI ./\n",
    "```"
   ]
  },
  {
   "cell_type": "markdown",
   "metadata": {},
   "source": [
    "```\n",
    "docker run --rm --runtime=nvidia $IMAGE_URI \\\n",
    "--train_files=$TRAIN_DATA \\\n",
    "--eval_files=$EVAL_DATA \\\n",
    "--job-dir=$BUCKET_NAME/$JOB_NAME \\\n",
    "--epochs=1\n",
    "```"
   ]
  },
  {
   "cell_type": "code",
   "execution_count": null,
   "metadata": {},
   "outputs": [],
   "source": []
  }
 ],
 "metadata": {
  "kernelspec": {
   "display_name": "Python 3",
   "language": "python",
   "name": "python3"
  },
  "language_info": {
   "codemirror_mode": {
    "name": "ipython",
    "version": 3
   },
   "file_extension": ".py",
   "mimetype": "text/x-python",
   "name": "python",
   "nbconvert_exporter": "python",
   "pygments_lexer": "ipython3",
   "version": "3.5.3"
  }
 },
 "nbformat": 4,
 "nbformat_minor": 2
}
